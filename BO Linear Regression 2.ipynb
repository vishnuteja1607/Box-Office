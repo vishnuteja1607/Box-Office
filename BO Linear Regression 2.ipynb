{
 "cells": [
  {
   "cell_type": "markdown",
   "id": "e1eea4e9",
   "metadata": {},
   "source": [
    "Check for winter months\n"
   ]
  },
  {
   "cell_type": "code",
   "execution_count": 1,
   "id": "69a0f64a",
   "metadata": {},
   "outputs": [
    {
     "data": {
      "text/html": [
       "<div>\n",
       "<style scoped>\n",
       "    .dataframe tbody tr th:only-of-type {\n",
       "        vertical-align: middle;\n",
       "    }\n",
       "\n",
       "    .dataframe tbody tr th {\n",
       "        vertical-align: top;\n",
       "    }\n",
       "\n",
       "    .dataframe thead th {\n",
       "        text-align: right;\n",
       "    }\n",
       "</style>\n",
       "<table border=\"1\" class=\"dataframe\">\n",
       "  <thead>\n",
       "    <tr style=\"text-align: right;\">\n",
       "      <th></th>\n",
       "      <th>year</th>\n",
       "      <th>Release</th>\n",
       "      <th>MoR</th>\n",
       "      <th>Theaters</th>\n",
       "      <th>Budgets</th>\n",
       "      <th>Potential</th>\n",
       "      <th>Color</th>\n",
       "      <th>Total Gross</th>\n",
       "    </tr>\n",
       "  </thead>\n",
       "  <tbody>\n",
       "    <tr>\n",
       "      <th>0</th>\n",
       "      <td>2000</td>\n",
       "      <td>How the Grinch Stole Christmas</td>\n",
       "      <td>11</td>\n",
       "      <td>3256</td>\n",
       "      <td>123.0</td>\n",
       "      <td>Blockbuster</td>\n",
       "      <td>green</td>\n",
       "      <td>260.044825</td>\n",
       "    </tr>\n",
       "    <tr>\n",
       "      <th>1</th>\n",
       "      <td>2000</td>\n",
       "      <td>Mission: Impossible II</td>\n",
       "      <td>5</td>\n",
       "      <td>3669</td>\n",
       "      <td>125.0</td>\n",
       "      <td>Blockbuster</td>\n",
       "      <td>green</td>\n",
       "      <td>215.409889</td>\n",
       "    </tr>\n",
       "    <tr>\n",
       "      <th>2</th>\n",
       "      <td>2000</td>\n",
       "      <td>Gladiator</td>\n",
       "      <td>5</td>\n",
       "      <td>3188</td>\n",
       "      <td>103.0</td>\n",
       "      <td>Blockbuster</td>\n",
       "      <td>green</td>\n",
       "      <td>187.705427</td>\n",
       "    </tr>\n",
       "    <tr>\n",
       "      <th>3</th>\n",
       "      <td>2000</td>\n",
       "      <td>The Perfect Storm</td>\n",
       "      <td>6</td>\n",
       "      <td>3407</td>\n",
       "      <td>120.0</td>\n",
       "      <td>Blockbuster</td>\n",
       "      <td>green</td>\n",
       "      <td>182.618434</td>\n",
       "    </tr>\n",
       "    <tr>\n",
       "      <th>4</th>\n",
       "      <td>2000</td>\n",
       "      <td>Meet the Parents</td>\n",
       "      <td>10</td>\n",
       "      <td>2697</td>\n",
       "      <td>55.0</td>\n",
       "      <td>Blockbuster</td>\n",
       "      <td>green</td>\n",
       "      <td>166.244045</td>\n",
       "    </tr>\n",
       "  </tbody>\n",
       "</table>\n",
       "</div>"
      ],
      "text/plain": [
       "   year                         Release  MoR  Theaters  Budgets    Potential  \\\n",
       "0  2000  How the Grinch Stole Christmas   11      3256    123.0  Blockbuster   \n",
       "1  2000          Mission: Impossible II    5      3669    125.0  Blockbuster   \n",
       "2  2000                       Gladiator    5      3188    103.0  Blockbuster   \n",
       "3  2000               The Perfect Storm    6      3407    120.0  Blockbuster   \n",
       "4  2000                Meet the Parents   10      2697     55.0  Blockbuster   \n",
       "\n",
       "   Color  Total Gross  \n",
       "0  green   260.044825  \n",
       "1  green   215.409889  \n",
       "2  green   187.705427  \n",
       "3  green   182.618434  \n",
       "4  green   166.244045  "
      ]
     },
     "execution_count": 1,
     "metadata": {},
     "output_type": "execute_result"
    }
   ],
   "source": [
    "import pandas as pd\n",
    "import numpy as np\n",
    "import matplotlib.pyplot as plt\n",
    "import seaborn as sb\n",
    "\n",
    "df = pd.read_csv(\"training_set1\")\n",
    "df = df[['year','Release','MoR','Theaters','Budgets','Potential','Color','Total Gross']]\n",
    "df.head()"
   ]
  },
  {
   "cell_type": "code",
   "execution_count": 2,
   "id": "f6c2c85e",
   "metadata": {},
   "outputs": [
    {
     "data": {
      "text/html": [
       "<div>\n",
       "<style scoped>\n",
       "    .dataframe tbody tr th:only-of-type {\n",
       "        vertical-align: middle;\n",
       "    }\n",
       "\n",
       "    .dataframe tbody tr th {\n",
       "        vertical-align: top;\n",
       "    }\n",
       "\n",
       "    .dataframe thead th {\n",
       "        text-align: right;\n",
       "    }\n",
       "</style>\n",
       "<table border=\"1\" class=\"dataframe\">\n",
       "  <thead>\n",
       "    <tr style=\"text-align: right;\">\n",
       "      <th></th>\n",
       "      <th>year</th>\n",
       "      <th>Release</th>\n",
       "      <th>MoR</th>\n",
       "      <th>Theaters</th>\n",
       "      <th>Budgets</th>\n",
       "      <th>Potential</th>\n",
       "      <th>Color</th>\n",
       "      <th>Total Gross</th>\n",
       "    </tr>\n",
       "  </thead>\n",
       "  <tbody>\n",
       "    <tr>\n",
       "      <th>0</th>\n",
       "      <td>2000</td>\n",
       "      <td>How the Grinch Stole Christmas</td>\n",
       "      <td>11</td>\n",
       "      <td>3256</td>\n",
       "      <td>123.0</td>\n",
       "      <td>Blockbuster</td>\n",
       "      <td>green</td>\n",
       "      <td>260.044825</td>\n",
       "    </tr>\n",
       "    <tr>\n",
       "      <th>4</th>\n",
       "      <td>2000</td>\n",
       "      <td>Meet the Parents</td>\n",
       "      <td>10</td>\n",
       "      <td>2697</td>\n",
       "      <td>55.0</td>\n",
       "      <td>Blockbuster</td>\n",
       "      <td>green</td>\n",
       "      <td>166.244045</td>\n",
       "    </tr>\n",
       "    <tr>\n",
       "      <th>12</th>\n",
       "      <td>2000</td>\n",
       "      <td>Cast Away</td>\n",
       "      <td>12</td>\n",
       "      <td>3061</td>\n",
       "      <td>90.0</td>\n",
       "      <td>Blockbuster</td>\n",
       "      <td>green</td>\n",
       "      <td>233.632142</td>\n",
       "    </tr>\n",
       "    <tr>\n",
       "      <th>16</th>\n",
       "      <td>2000</td>\n",
       "      <td>Unbreakable</td>\n",
       "      <td>11</td>\n",
       "      <td>2708</td>\n",
       "      <td>75.0</td>\n",
       "      <td>Decent</td>\n",
       "      <td>blue</td>\n",
       "      <td>95.011339</td>\n",
       "    </tr>\n",
       "    <tr>\n",
       "      <th>19</th>\n",
       "      <td>2000</td>\n",
       "      <td>Stuart Little</td>\n",
       "      <td>12</td>\n",
       "      <td>3151</td>\n",
       "      <td>103.0</td>\n",
       "      <td>Decent</td>\n",
       "      <td>blue</td>\n",
       "      <td>140.035367</td>\n",
       "    </tr>\n",
       "  </tbody>\n",
       "</table>\n",
       "</div>"
      ],
      "text/plain": [
       "    year                         Release  MoR  Theaters  Budgets    Potential  \\\n",
       "0   2000  How the Grinch Stole Christmas   11      3256    123.0  Blockbuster   \n",
       "4   2000                Meet the Parents   10      2697     55.0  Blockbuster   \n",
       "12  2000                       Cast Away   12      3061     90.0  Blockbuster   \n",
       "16  2000                     Unbreakable   11      2708     75.0       Decent   \n",
       "19  2000                   Stuart Little   12      3151    103.0       Decent   \n",
       "\n",
       "    Color  Total Gross  \n",
       "0   green   260.044825  \n",
       "4   green   166.244045  \n",
       "12  green   233.632142  \n",
       "16   blue    95.011339  \n",
       "19   blue   140.035367  "
      ]
     },
     "execution_count": 2,
     "metadata": {},
     "output_type": "execute_result"
    }
   ],
   "source": [
    "df=df[df['MoR']>=10]\n",
    "df.head()"
   ]
  },
  {
   "cell_type": "code",
   "execution_count": 3,
   "id": "b1b8fb2a",
   "metadata": {},
   "outputs": [
    {
     "data": {
      "image/png": "[encoded data removed]",
      "text/plain": [
       "<Figure size 432x288 with 1 Axes>"
      ]
     },
     "metadata": {
      "needs_background": "light"
     },
     "output_type": "display_data"
    }
   ],
   "source": [
    "sb.scatterplot(y='Total Gross',x='MoR',hue='Potential',data=df)\n",
    "plt.show()"
   ]
  },
  {
   "cell_type": "code",
   "execution_count": 4,
   "id": "e23fd94d",
   "metadata": {},
   "outputs": [],
   "source": [
    "from sklearn import linear_model\n",
    "from sklearn.model_selection import train_test_split\n",
    "from scipy import stats"
   ]
  },
  {
   "cell_type": "code",
   "execution_count": 5,
   "id": "c03dd7f2",
   "metadata": {},
   "outputs": [],
   "source": [
    "X = df[['MoR','Theaters','Budgets']]\n",
    "y = df['Total Gross']"
   ]
  },
  {
   "cell_type": "code",
   "execution_count": 6,
   "id": "310dfb12",
   "metadata": {},
   "outputs": [],
   "source": [
    "X_train, X_test, y_train, y_test = train_test_split(X, y,test_size=0.33, random_state=42)"
   ]
  },
  {
   "cell_type": "code",
   "execution_count": 7,
   "id": "fe5960b3",
   "metadata": {},
   "outputs": [
    {
     "name": "stdout",
     "output_type": "stream",
     "text": [
      "[9.35649984 0.04692677 0.2775384 ]\n",
      "-157.24102292007774\n"
     ]
    }
   ],
   "source": [
    "model1 = linear_model.LinearRegression()\n",
    "model1.fit(X_train, y_train)\n",
    "print(model1.coef_)\n",
    "print(model1.intercept_)"
   ]
  },
  {
   "cell_type": "code",
   "execution_count": 8,
   "id": "8cefe53c",
   "metadata": {},
   "outputs": [],
   "source": [
    "pred1 = model1.predict(X_test)"
   ]
  },
  {
   "cell_type": "code",
   "execution_count": 9,
   "id": "44b2d090",
   "metadata": {},
   "outputs": [
    {
     "data": {
      "text/plain": [
       "1006701.2336446366"
      ]
     },
     "execution_count": 9,
     "metadata": {},
     "output_type": "execute_result"
    }
   ],
   "source": [
    "rss = np.sum((pred1-y_test)**2)\n",
    "rss"
   ]
  },
  {
   "cell_type": "code",
   "execution_count": 10,
   "id": "02862b84",
   "metadata": {},
   "outputs": [
    {
     "data": {
      "text/plain": [
       "1184588.1774150818"
      ]
     },
     "execution_count": 10,
     "metadata": {},
     "output_type": "execute_result"
    }
   ],
   "source": [
    "ymean = np.mean(y_test)\n",
    "tss = np.sum((pred1-ymean)**2)\n",
    "tss"
   ]
  },
  {
   "cell_type": "code",
   "execution_count": 12,
   "id": "bad67729",
   "metadata": {},
   "outputs": [
    {
     "data": {
      "text/plain": [
       "0.1767028169086747"
      ]
     },
     "execution_count": 12,
     "metadata": {},
     "output_type": "execute_result"
    }
   ],
   "source": [
    "r2 = (tss-rss)/rss\n",
    "r2"
   ]
  },
  {
   "cell_type": "code",
   "execution_count": 20,
   "id": "7dedc1b7",
   "metadata": {},
   "outputs": [],
   "source": [
    "from sklearn.neighbors import KNeighborsRegressor as knn"
   ]
  },
  {
   "cell_type": "code",
   "execution_count": 15,
   "id": "a1d4bcae",
   "metadata": {},
   "outputs": [
    {
     "data": {
      "text/html": [
       "<style>#sk-container-id-1 {color: black;background-color: white;}#sk-container-id-1 pre{padding: 0;}#sk-container-id-1 div.sk-toggleable {background-color: white;}#sk-container-id-1 label.sk-toggleable__label {cursor: pointer;display: block;width: 100%;margin-bottom: 0;padding: 0.3em;box-sizing: border-box;text-align: center;}#sk-container-id-1 label.sk-toggleable__label-arrow:before {content: \"▸\";float: left;margin-right: 0.25em;color: #696969;}#sk-container-id-1 label.sk-toggleable__label-arrow:hover:before {color: black;}#sk-container-id-1 div.sk-estimator:hover label.sk-toggleable__label-arrow:before {color: black;}#sk-container-id-1 div.sk-toggleable__content {max-height: 0;max-width: 0;overflow: hidden;text-align: left;background-color: #f0f8ff;}#sk-container-id-1 div.sk-toggleable__content pre {margin: 0.2em;color: black;border-radius: 0.25em;background-color: #f0f8ff;}#sk-container-id-1 input.sk-toggleable__control:checked~div.sk-toggleable__content {max-height: 200px;max-width: 100%;overflow: auto;}#sk-container-id-1 input.sk-toggleable__control:checked~label.sk-toggleable__label-arrow:before {content: \"▾\";}#sk-container-id-1 div.sk-estimator input.sk-toggleable__control:checked~label.sk-toggleable__label {background-color: #d4ebff;}#sk-container-id-1 div.sk-label input.sk-toggleable__control:checked~label.sk-toggleable__label {background-color: #d4ebff;}#sk-container-id-1 input.sk-hidden--visually {border: 0;clip: rect(1px 1px 1px 1px);clip: rect(1px, 1px, 1px, 1px);height: 1px;margin: -1px;overflow: hidden;padding: 0;position: absolute;width: 1px;}#sk-container-id-1 div.sk-estimator {font-family: monospace;background-color: #f0f8ff;border: 1px dotted black;border-radius: 0.25em;box-sizing: border-box;margin-bottom: 0.5em;}#sk-container-id-1 div.sk-estimator:hover {background-color: #d4ebff;}#sk-container-id-1 div.sk-parallel-item::after {content: \"\";width: 100%;border-bottom: 1px solid gray;flex-grow: 1;}#sk-container-id-1 div.sk-label:hover label.sk-toggleable__label {background-color: #d4ebff;}#sk-container-id-1 div.sk-serial::before {content: \"\";position: absolute;border-left: 1px solid gray;box-sizing: border-box;top: 0;bottom: 0;left: 50%;z-index: 0;}#sk-container-id-1 div.sk-serial {display: flex;flex-direction: column;align-items: center;background-color: white;padding-right: 0.2em;padding-left: 0.2em;position: relative;}#sk-container-id-1 div.sk-item {position: relative;z-index: 1;}#sk-container-id-1 div.sk-parallel {display: flex;align-items: stretch;justify-content: center;background-color: white;position: relative;}#sk-container-id-1 div.sk-item::before, #sk-container-id-1 div.sk-parallel-item::before {content: \"\";position: absolute;border-left: 1px solid gray;box-sizing: border-box;top: 0;bottom: 0;left: 50%;z-index: -1;}#sk-container-id-1 div.sk-parallel-item {display: flex;flex-direction: column;z-index: 1;position: relative;background-color: white;}#sk-container-id-1 div.sk-parallel-item:first-child::after {align-self: flex-end;width: 50%;}#sk-container-id-1 div.sk-parallel-item:last-child::after {align-self: flex-start;width: 50%;}#sk-container-id-1 div.sk-parallel-item:only-child::after {width: 0;}#sk-container-id-1 div.sk-dashed-wrapped {border: 1px dashed gray;margin: 0 0.4em 0.5em 0.4em;box-sizing: border-box;padding-bottom: 0.4em;background-color: white;}#sk-container-id-1 div.sk-label label {font-family: monospace;font-weight: bold;display: inline-block;line-height: 1.2em;}#sk-container-id-1 div.sk-label-container {text-align: center;}#sk-container-id-1 div.sk-container {/* jupyter's `normalize.less` sets `[hidden] { display: none; }` but bootstrap.min.css set `[hidden] { display: none !important; }` so we also need the `!important` here to be able to override the default hidden behavior on the sphinx rendered scikit-learn.org. See: https://github.com/scikit-learn/scikit-learn/issues/21755 */display: inline-block !important;position: relative;}#sk-container-id-1 div.sk-text-repr-fallback {display: none;}</style><div id=\"sk-container-id-1\" class=\"sk-top-container\"><div class=\"sk-text-repr-fallback\"><pre>KNeighborsClassifier()</pre><b>In a Jupyter environment, please rerun this cell to show the HTML representation or trust the notebook. <br />On GitHub, the HTML representation is unable to render, please try loading this page with nbviewer.org.</b></div><div class=\"sk-container\" hidden><div class=\"sk-item\"><div class=\"sk-estimator sk-toggleable\"><input class=\"sk-toggleable__control sk-hidden--visually\" id=\"sk-estimator-id-1\" type=\"checkbox\" checked><label for=\"sk-estimator-id-1\" class=\"sk-toggleable__label sk-toggleable__label-arrow\">KNeighborsClassifier</label><div class=\"sk-toggleable__content\"><pre>KNeighborsClassifier()</pre></div></div></div></div></div>"
      ],
      "text/plain": [
       "KNeighborsClassifier()"
      ]
     },
     "execution_count": 15,
     "metadata": {},
     "output_type": "execute_result"
    }
   ],
   "source": [
    "modelk = knn()\n",
    "modelk"
   ]
  },
  {
   "cell_type": "code",
   "execution_count": 16,
   "id": "9f600e1d",
   "metadata": {},
   "outputs": [],
   "source": [
    "def mse(preds,test):\n",
    "    \n",
    "    res = np.mean((preds-test)**2)\n",
    "    return res"
   ]
  },
  {
   "cell_type": "code",
   "execution_count": 19,
   "id": "242c3003",
   "metadata": {},
   "outputs": [
    {
     "data": {
      "text/plain": [
       "255      25.581229\n",
       "2202    113.929605\n",
       "123      51.804714\n",
       "1680     14.618727\n",
       "1132    120.146040\n",
       "           ...    \n",
       "156      14.694904\n",
       "252     317.575550\n",
       "702      37.629831\n",
       "1131     19.806188\n",
       "241      33.561137\n",
       "Name: Total Gross, Length: 574, dtype: float64"
      ]
     },
     "execution_count": 19,
     "metadata": {},
     "output_type": "execute_result"
    }
   ],
   "source": [
    "y_train"
   ]
  },
  {
   "cell_type": "code",
   "execution_count": 27,
   "id": "f70058c3",
   "metadata": {},
   "outputs": [
    {
     "name": "stdout",
     "output_type": "stream",
     "text": [
      "[1929.9872670333593, 2473.6453467257984, 2336.152176648387, 2425.6652193893196]\n"
     ]
    }
   ],
   "source": [
    "mses = []\n",
    "for i in range(1,5):\n",
    "    \n",
    "    modelknn = knn(n_neighbors=i)\n",
    "    modelknn.fit(X_train,y_train)\n",
    "    predsi = modelknn.predict(X_test)\n",
    "    res = mse(predsi,y_test)\n",
    "    mses.append(res)\n",
    "print(mses)\n",
    "    "
   ]
  },
  {
   "cell_type": "code",
   "execution_count": 23,
   "id": "cf4c6a0c",
   "metadata": {},
   "outputs": [
    {
     "data": {
      "text/plain": [
       "array([ 11.31042  , 190.3072997,  63.7364868, 173.7347184,   7.8838323,\n",
       "       352.2520706,  72.4769294,  88.9029179, 162.9403232, 168.3175656,\n",
       "        60.3069278,  19.7615957,  50.9672632,  34.8845401,  58.1932163,\n",
       "         8.2755368,  80.505762 ,  49.0445115,  23.292049 ,  67.7038979,\n",
       "         9.381989 ,  18.3475121,  47.8133078,  33.6444336,  14.5629769,\n",
       "       118.1235451,  12.5597248,   7.8838323, 291.227452 ,  36.820247 ,\n",
       "       155.4817945, 159.1131071,  31.5778792, 229.1513141,  91.8748294,\n",
       "       166.1920012,  47.3285866,  22.6917491, 114.2331298,  32.0183919,\n",
       "         8.7040951,  20.3033125,  36.8911868,  30.0937387,  29.7064398,\n",
       "        61.2934208,  33.1786498,  21.1073327, 101.3572885,  36.6191504,\n",
       "        13.8260862,  81.2754802, 114.2331298,  67.8817628,  12.5597248,\n",
       "       174.8064503, 112.5745586, 180.4355814,   7.7947111,  57.4308072,\n",
       "       135.7403625,   4.326958 , 214.4173597,  29.7064398, 190.4422081,\n",
       "        28.884119 , 181.5914435,  68.3517192,   9.3581742,   5.1130257,\n",
       "       206.9671186,  45.3699856, 149.3067007, 176.8920605,  31.8396351,\n",
       "        31.8396351,   7.542269 , 148.9615223,  40.1738308,  52.7233106,\n",
       "        75.2236243,  50.8011315, 203.8012199,  40.6511298,  29.5469822,\n",
       "       291.227452 ,  72.4769294,  41.2050933,  73.8072618,  34.8845401,\n",
       "        41.0138037,   4.326958 ,  35.899695 ,  47.3285866,  62.3095646,\n",
       "        59.4882058, 114.5339471,  30.9076442,  99.1192825, 207.9579584,\n",
       "        47.3285866,  11.31042  ,   9.3581742, 203.8012199, 123.0574252,\n",
       "        28.6324889,  35.899695 , 145.4091733,  35.322164 ,  72.0335612,\n",
       "         8.6186445,  32.9035167, 100.1108441, 216.4595481,  35.8294884,\n",
       "        54.0724356,   7.7798117,  43.0735132,  34.8391225,  14.628622 ,\n",
       "         8.8976713,  68.5259483,  35.983878 ,   5.2309671, 118.998247 ,\n",
       "        46.6913535,   9.3581742,  99.1192825,  32.7443936, 159.9402728,\n",
       "        52.632554 ,  63.7364868,  37.5513963, 180.7292023,  42.2647175,\n",
       "        26.8931075, 212.6397781, 135.7403625, 265.3174898, 252.2349304,\n",
       "         8.7040951,  19.3017881,  51.6795037,  57.4098917,  69.9006633,\n",
       "        26.4516824,  33.1945502, 117.4557121, 211.8267981,  35.2149741,\n",
       "        53.336935 ,  12.5597248,  56.7372322,  30.9076442,  77.8775898,\n",
       "         9.3581742, 143.9877444,  31.6108298,  41.3761695,   9.3533478,\n",
       "       112.3831421,  42.4546081, 277.9593817, 122.1922206, 101.0752671,\n",
       "        82.3903974,  39.0503042,  32.14804  ,  23.292049 ,  56.0511927,\n",
       "        35.4061919,  68.5104643,  64.788505 ,  35.4061919,  32.0122743,\n",
       "        31.866568 , 136.6321539,  23.292049 , 118.0610166,  35.899695 ,\n",
       "       166.1920012, 102.2416397,  91.8748294,  46.8349585,  37.4658877,\n",
       "        32.9494769,  55.4133614, 109.4099913,  17.0895178,   8.7040951,\n",
       "        55.0947096,   9.381989 ,  25.2896223,  72.4769294, 190.3072997,\n",
       "        34.2011653,  35.322164 ,   8.015939 , 106.0886921,  75.4797059,\n",
       "        33.1681066,  18.3475121,  35.899695 ,  11.31042  ,  97.8776394,\n",
       "        31.8396351,  92.6797932,  26.4516824,  32.5606739,  96.7290405,\n",
       "        40.5843839,   4.326958 ,  36.3046622,  99.9820568, 118.2242776,\n",
       "       159.9402728, 107.9451492, 180.346629 ,  33.6444336,  30.9076442,\n",
       "        88.4103459,  32.3887627,  50.0838039,  66.0737977,   8.6186445,\n",
       "        52.3539162, 129.0721867, 209.6584691,  57.7116833,  65.3346398,\n",
       "       130.6785299,  32.14804  ,  61.406915 , 132.9908221,  53.336935 ,\n",
       "        77.5773076, 245.6377626,  69.8749017,  27.7939027,  52.6202008,\n",
       "        21.2940058,  82.7194521,  15.7002058,  19.3017881,  36.6191504,\n",
       "        77.4477665, 129.9458724, 207.9139688,  36.2957412,  19.7615957,\n",
       "        15.2396846, 352.2520706, 353.7989908,  99.5041748,  56.6105847,\n",
       "        17.067759 ,  67.0230346,   5.7053403,  32.7626877,  66.8541606,\n",
       "        43.0735132,  49.6887925, 214.4173597, 101.0752671,  53.336935 ,\n",
       "       158.4042789,  72.4769294,  73.3666892,  61.406915 ,  37.4658877,\n",
       "        10.6064668,  70.5899476, 143.9877444,  41.1566302, 190.4422081,\n",
       "       180.4355814,  57.7116833,  64.788505 , 149.3067007,  63.0048868,\n",
       "       223.32738  ,   8.015939 ,  30.5461597,  67.9262423])"
      ]
     },
     "execution_count": 23,
     "metadata": {},
     "output_type": "execute_result"
    }
   ],
   "source": [
    "mses = []\n",
    "\n",
    "for i in preds:\n",
    "    \n",
    "    mses.append(mse(i,y_test))"
   ]
  }
 ],
 "metadata": {
  "kernelspec": {
   "display_name": "Python 3 (ipykernel)",
   "language": "python",
   "name": "python3"
  },
  "language_info": {
   "codemirror_mode": {
    "name": "ipython",
    "version": 3
   },
   "file_extension": ".py",
   "mimetype": "text/x-python",
   "name": "python",
   "nbconvert_exporter": "python",
   "pygments_lexer": "ipython3",
   "version": "3.9.7"
  }
 },
 "nbformat": 4,
 "nbformat_minor": 5
}
